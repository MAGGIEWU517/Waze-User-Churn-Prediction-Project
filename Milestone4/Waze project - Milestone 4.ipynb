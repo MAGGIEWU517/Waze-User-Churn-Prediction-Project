{
 "cells": [
  {
   "cell_type": "markdown",
   "metadata": {
    "id": "DtNBZFHO3M7n"
   },
   "source": [
    "# **Waze Project**\n",
    "**Milestone 4 - Hypothesis Testing on variables**"
   ]
  },
  {
   "cell_type": "markdown",
   "metadata": {
    "id": "rgSbVJvomcVa"
   },
   "source": [
    "**The purpose** of this project is to demostrate knowledge of how to conduct a two-sample hypothesis test. \n",
    "\n",
    "(A two-sample hypothesis test is a common statistical approach used in A/B testing to compare two groups and determine if there is a significant difference between them. Although this dataset is not the result of an actual A/B test experiment, it will be used here as a **demonstration of how A/B testing can be conducted** using Python code and statistical methods.).\n",
    "\n",
    "**The goal** is to to analyze if there is a **statistically significant** difference in mean amount of rides between iPhone® users and Android™ users. .\n",
    "<br/>\n",
    "\n",
    "*This analysis has three parts:*\n",
    "\n",
    "**Part 1:** Decide effects, power and sample sizes (Before Data Collection in A/B testing) \n",
    "\n",
    "**Part 2:** Imports and data loading\n",
    "\n",
    "**Part 3:** Conduct hypothesis testing (a two sample t test)\n",
    "\n",
    "**Part 4:** Communicate insights with stakeholders\n",
    "\n",
    "<br/>\n",
    "\n"
   ]
  },
  {
   "cell_type": "markdown",
   "metadata": {},
   "source": [
    "### **Part 1. Decide effects, power and sample sizes**"
   ]
  },
  {
   "cell_type": "markdown",
   "metadata": {},
   "source": [
    "**This part only exists for A/B testing.**\n",
    "\n",
    "This part is meant to show how we approach an A/B testing before the experiment. \n",
    "\n",
    "Decide **effects** for this A/B test. Smaller Effects require larger sample size. \n",
    "\n",
    "**Power** = 0.8 is commonly used as a standard in statistics because it provides a good balance between detecting a true effect (sensitivity) and minimizing the sample size.\n",
    "\n",
    "**Sample size** is decided by code below.\n",
    "\n",
    "**Key Variant** is the mean amount of rides.\n",
    "\n",
    "**Control Group** applying current feature.\n",
    "**Treatment Group** applying new feature."
   ]
  },
  {
   "cell_type": "code",
   "execution_count": 36,
   "metadata": {},
   "outputs": [
    {
     "name": "stdout",
     "output_type": "stream",
     "text": [
      "Sample size: 4361.438697203437\n"
     ]
    }
   ],
   "source": [
    "from statsmodels.stats.power import TTestIndPower\n",
    "\n",
    "# Define parameters\n",
    "alpha = 0.05\n",
    "power = 0.8\n",
    "effect_size = 0.06 # Choose a small effect size\n",
    "\n",
    "# Calculate sample size per group\n",
    "analysis = TTestIndPower()\n",
    "sample_size = analysis.solve_power(effect_size=effect_size, power=power, alpha=alpha, alternative='two-sided')\n",
    "print(f\"Sample size: {sample_size}\")"
   ]
  },
  {
   "cell_type": "markdown",
   "metadata": {
    "id": "xgQEdIN7f1Jq"
   },
   "source": [
    "### **Part 2. Imports and data loading**\n",
    "\n",
    "\n"
   ]
  },
  {
   "cell_type": "markdown",
   "metadata": {
    "id": "ehehvUzFj0-e"
   },
   "source": [
    "Assume the data collection is finished.\n",
    "\n",
    "Import packages and libraries needed to compute descriptive statistics and conduct a hypothesis test."
   ]
  },
  {
   "cell_type": "code",
   "execution_count": 37,
   "metadata": {
    "id": "1Q-GL2UrgWWG"
   },
   "outputs": [],
   "source": [
    "# Import any relevant packages or libraries\n",
    "import pandas as pd\n",
    "import numpy as np\n",
    "from scipy import stats"
   ]
  },
  {
   "cell_type": "markdown",
   "metadata": {
    "id": "stMe9uT3kOmF"
   },
   "source": [
    "Import the dataset."
   ]
  },
  {
   "cell_type": "code",
   "execution_count": 38,
   "metadata": {
    "id": "2qAt6Upaeg6U"
   },
   "outputs": [],
   "source": [
    "# Load dataset into dataframe\n",
    "df = pd.read_csv('waze_dataset.csv')"
   ]
  },
  {
   "cell_type": "markdown",
   "metadata": {
    "id": "UKhYTdVhf5B2"
   },
   "source": [
    "**Data exploration**\n",
    "\n",
    "Use descriptive statistics to conduct exploratory data analysis (EDA)."
   ]
  },
  {
   "cell_type": "code",
   "execution_count": 39,
   "metadata": {},
   "outputs": [
    {
     "data": {
      "text/html": [
       "<div>\n",
       "<style scoped>\n",
       "    .dataframe tbody tr th:only-of-type {\n",
       "        vertical-align: middle;\n",
       "    }\n",
       "\n",
       "    .dataframe tbody tr th {\n",
       "        vertical-align: top;\n",
       "    }\n",
       "\n",
       "    .dataframe thead th {\n",
       "        text-align: right;\n",
       "    }\n",
       "</style>\n",
       "<table border=\"1\" class=\"dataframe\">\n",
       "  <thead>\n",
       "    <tr style=\"text-align: right;\">\n",
       "      <th></th>\n",
       "      <th>ID</th>\n",
       "      <th>label</th>\n",
       "      <th>sessions</th>\n",
       "      <th>drives</th>\n",
       "      <th>total_sessions</th>\n",
       "      <th>n_days_after_onboarding</th>\n",
       "      <th>total_navigations_fav1</th>\n",
       "      <th>total_navigations_fav2</th>\n",
       "      <th>driven_km_drives</th>\n",
       "      <th>duration_minutes_drives</th>\n",
       "      <th>activity_days</th>\n",
       "      <th>driving_days</th>\n",
       "      <th>device</th>\n",
       "    </tr>\n",
       "  </thead>\n",
       "  <tbody>\n",
       "    <tr>\n",
       "      <th>count</th>\n",
       "      <td>14999.000000</td>\n",
       "      <td>14299</td>\n",
       "      <td>14999.000000</td>\n",
       "      <td>14999.000000</td>\n",
       "      <td>14999.000000</td>\n",
       "      <td>14999.000000</td>\n",
       "      <td>14999.000000</td>\n",
       "      <td>14999.000000</td>\n",
       "      <td>14999.000000</td>\n",
       "      <td>14999.000000</td>\n",
       "      <td>14999.000000</td>\n",
       "      <td>14999.000000</td>\n",
       "      <td>14999</td>\n",
       "    </tr>\n",
       "    <tr>\n",
       "      <th>unique</th>\n",
       "      <td>NaN</td>\n",
       "      <td>2</td>\n",
       "      <td>NaN</td>\n",
       "      <td>NaN</td>\n",
       "      <td>NaN</td>\n",
       "      <td>NaN</td>\n",
       "      <td>NaN</td>\n",
       "      <td>NaN</td>\n",
       "      <td>NaN</td>\n",
       "      <td>NaN</td>\n",
       "      <td>NaN</td>\n",
       "      <td>NaN</td>\n",
       "      <td>2</td>\n",
       "    </tr>\n",
       "    <tr>\n",
       "      <th>top</th>\n",
       "      <td>NaN</td>\n",
       "      <td>retained</td>\n",
       "      <td>NaN</td>\n",
       "      <td>NaN</td>\n",
       "      <td>NaN</td>\n",
       "      <td>NaN</td>\n",
       "      <td>NaN</td>\n",
       "      <td>NaN</td>\n",
       "      <td>NaN</td>\n",
       "      <td>NaN</td>\n",
       "      <td>NaN</td>\n",
       "      <td>NaN</td>\n",
       "      <td>iPhone</td>\n",
       "    </tr>\n",
       "    <tr>\n",
       "      <th>freq</th>\n",
       "      <td>NaN</td>\n",
       "      <td>11763</td>\n",
       "      <td>NaN</td>\n",
       "      <td>NaN</td>\n",
       "      <td>NaN</td>\n",
       "      <td>NaN</td>\n",
       "      <td>NaN</td>\n",
       "      <td>NaN</td>\n",
       "      <td>NaN</td>\n",
       "      <td>NaN</td>\n",
       "      <td>NaN</td>\n",
       "      <td>NaN</td>\n",
       "      <td>9672</td>\n",
       "    </tr>\n",
       "    <tr>\n",
       "      <th>mean</th>\n",
       "      <td>7499.000000</td>\n",
       "      <td>NaN</td>\n",
       "      <td>80.633776</td>\n",
       "      <td>67.281152</td>\n",
       "      <td>189.964447</td>\n",
       "      <td>1749.837789</td>\n",
       "      <td>121.605974</td>\n",
       "      <td>29.672512</td>\n",
       "      <td>4039.340921</td>\n",
       "      <td>1860.976012</td>\n",
       "      <td>15.537102</td>\n",
       "      <td>12.179879</td>\n",
       "      <td>NaN</td>\n",
       "    </tr>\n",
       "    <tr>\n",
       "      <th>std</th>\n",
       "      <td>4329.982679</td>\n",
       "      <td>NaN</td>\n",
       "      <td>80.699065</td>\n",
       "      <td>65.913872</td>\n",
       "      <td>136.405128</td>\n",
       "      <td>1008.513876</td>\n",
       "      <td>148.121544</td>\n",
       "      <td>45.394651</td>\n",
       "      <td>2502.149334</td>\n",
       "      <td>1446.702288</td>\n",
       "      <td>9.004655</td>\n",
       "      <td>7.824036</td>\n",
       "      <td>NaN</td>\n",
       "    </tr>\n",
       "    <tr>\n",
       "      <th>min</th>\n",
       "      <td>0.000000</td>\n",
       "      <td>NaN</td>\n",
       "      <td>0.000000</td>\n",
       "      <td>0.000000</td>\n",
       "      <td>0.220211</td>\n",
       "      <td>4.000000</td>\n",
       "      <td>0.000000</td>\n",
       "      <td>0.000000</td>\n",
       "      <td>60.441250</td>\n",
       "      <td>18.282082</td>\n",
       "      <td>0.000000</td>\n",
       "      <td>0.000000</td>\n",
       "      <td>NaN</td>\n",
       "    </tr>\n",
       "    <tr>\n",
       "      <th>25%</th>\n",
       "      <td>3749.500000</td>\n",
       "      <td>NaN</td>\n",
       "      <td>23.000000</td>\n",
       "      <td>20.000000</td>\n",
       "      <td>90.661156</td>\n",
       "      <td>878.000000</td>\n",
       "      <td>9.000000</td>\n",
       "      <td>0.000000</td>\n",
       "      <td>2212.600607</td>\n",
       "      <td>835.996260</td>\n",
       "      <td>8.000000</td>\n",
       "      <td>5.000000</td>\n",
       "      <td>NaN</td>\n",
       "    </tr>\n",
       "    <tr>\n",
       "      <th>50%</th>\n",
       "      <td>7499.000000</td>\n",
       "      <td>NaN</td>\n",
       "      <td>56.000000</td>\n",
       "      <td>48.000000</td>\n",
       "      <td>159.568115</td>\n",
       "      <td>1741.000000</td>\n",
       "      <td>71.000000</td>\n",
       "      <td>9.000000</td>\n",
       "      <td>3493.858085</td>\n",
       "      <td>1478.249859</td>\n",
       "      <td>16.000000</td>\n",
       "      <td>12.000000</td>\n",
       "      <td>NaN</td>\n",
       "    </tr>\n",
       "    <tr>\n",
       "      <th>75%</th>\n",
       "      <td>11248.500000</td>\n",
       "      <td>NaN</td>\n",
       "      <td>112.000000</td>\n",
       "      <td>93.000000</td>\n",
       "      <td>254.192341</td>\n",
       "      <td>2623.500000</td>\n",
       "      <td>178.000000</td>\n",
       "      <td>43.000000</td>\n",
       "      <td>5289.861262</td>\n",
       "      <td>2464.362632</td>\n",
       "      <td>23.000000</td>\n",
       "      <td>19.000000</td>\n",
       "      <td>NaN</td>\n",
       "    </tr>\n",
       "    <tr>\n",
       "      <th>max</th>\n",
       "      <td>14998.000000</td>\n",
       "      <td>NaN</td>\n",
       "      <td>743.000000</td>\n",
       "      <td>596.000000</td>\n",
       "      <td>1216.154633</td>\n",
       "      <td>3500.000000</td>\n",
       "      <td>1236.000000</td>\n",
       "      <td>415.000000</td>\n",
       "      <td>21183.401890</td>\n",
       "      <td>15851.727160</td>\n",
       "      <td>31.000000</td>\n",
       "      <td>30.000000</td>\n",
       "      <td>NaN</td>\n",
       "    </tr>\n",
       "  </tbody>\n",
       "</table>\n",
       "</div>"
      ],
      "text/plain": [
       "                  ID     label      sessions        drives  total_sessions  \\\n",
       "count   14999.000000     14299  14999.000000  14999.000000    14999.000000   \n",
       "unique           NaN         2           NaN           NaN             NaN   \n",
       "top              NaN  retained           NaN           NaN             NaN   \n",
       "freq             NaN     11763           NaN           NaN             NaN   \n",
       "mean     7499.000000       NaN     80.633776     67.281152      189.964447   \n",
       "std      4329.982679       NaN     80.699065     65.913872      136.405128   \n",
       "min         0.000000       NaN      0.000000      0.000000        0.220211   \n",
       "25%      3749.500000       NaN     23.000000     20.000000       90.661156   \n",
       "50%      7499.000000       NaN     56.000000     48.000000      159.568115   \n",
       "75%     11248.500000       NaN    112.000000     93.000000      254.192341   \n",
       "max     14998.000000       NaN    743.000000    596.000000     1216.154633   \n",
       "\n",
       "        n_days_after_onboarding  total_navigations_fav1  \\\n",
       "count              14999.000000            14999.000000   \n",
       "unique                      NaN                     NaN   \n",
       "top                         NaN                     NaN   \n",
       "freq                        NaN                     NaN   \n",
       "mean                1749.837789              121.605974   \n",
       "std                 1008.513876              148.121544   \n",
       "min                    4.000000                0.000000   \n",
       "25%                  878.000000                9.000000   \n",
       "50%                 1741.000000               71.000000   \n",
       "75%                 2623.500000              178.000000   \n",
       "max                 3500.000000             1236.000000   \n",
       "\n",
       "        total_navigations_fav2  driven_km_drives  duration_minutes_drives  \\\n",
       "count             14999.000000      14999.000000             14999.000000   \n",
       "unique                     NaN               NaN                      NaN   \n",
       "top                        NaN               NaN                      NaN   \n",
       "freq                       NaN               NaN                      NaN   \n",
       "mean                 29.672512       4039.340921              1860.976012   \n",
       "std                  45.394651       2502.149334              1446.702288   \n",
       "min                   0.000000         60.441250                18.282082   \n",
       "25%                   0.000000       2212.600607               835.996260   \n",
       "50%                   9.000000       3493.858085              1478.249859   \n",
       "75%                  43.000000       5289.861262              2464.362632   \n",
       "max                 415.000000      21183.401890             15851.727160   \n",
       "\n",
       "        activity_days  driving_days  device  \n",
       "count    14999.000000  14999.000000   14999  \n",
       "unique            NaN           NaN       2  \n",
       "top               NaN           NaN  iPhone  \n",
       "freq              NaN           NaN    9672  \n",
       "mean        15.537102     12.179879     NaN  \n",
       "std          9.004655      7.824036     NaN  \n",
       "min          0.000000      0.000000     NaN  \n",
       "25%          8.000000      5.000000     NaN  \n",
       "50%         16.000000     12.000000     NaN  \n",
       "75%         23.000000     19.000000     NaN  \n",
       "max         31.000000     30.000000     NaN  "
      ]
     },
     "execution_count": 39,
     "metadata": {},
     "output_type": "execute_result"
    }
   ],
   "source": [
    "df.describe(include = 'all')"
   ]
  },
  {
   "cell_type": "markdown",
   "metadata": {
    "id": "JAq7ag0pTNgl"
   },
   "source": [
    "**Findings:** \n",
    "In the dataset, `device` is a categorical variable with the labels `iPhone` and `Android`. `drives` is numerical data with mean = 67.28 and standard deviation = 65.91.\n",
    "\n",
    "In order to perform this analysis, we need to turn each label into an integer.  Assigning a `1` for an `iPhone` user and a `2` for `Android`.  It assigns this label back to the variable `device_type` instead of overwrite the original data.\n",
    "\n"
   ]
  },
  {
   "cell_type": "code",
   "execution_count": 40,
   "metadata": {
    "id": "piHSZbnjEXw-"
   },
   "outputs": [
    {
     "data": {
      "text/html": [
       "<div>\n",
       "<style scoped>\n",
       "    .dataframe tbody tr th:only-of-type {\n",
       "        vertical-align: middle;\n",
       "    }\n",
       "\n",
       "    .dataframe tbody tr th {\n",
       "        vertical-align: top;\n",
       "    }\n",
       "\n",
       "    .dataframe thead th {\n",
       "        text-align: right;\n",
       "    }\n",
       "</style>\n",
       "<table border=\"1\" class=\"dataframe\">\n",
       "  <thead>\n",
       "    <tr style=\"text-align: right;\">\n",
       "      <th></th>\n",
       "      <th>ID</th>\n",
       "      <th>label</th>\n",
       "      <th>sessions</th>\n",
       "      <th>drives</th>\n",
       "      <th>total_sessions</th>\n",
       "      <th>n_days_after_onboarding</th>\n",
       "      <th>total_navigations_fav1</th>\n",
       "      <th>total_navigations_fav2</th>\n",
       "      <th>driven_km_drives</th>\n",
       "      <th>duration_minutes_drives</th>\n",
       "      <th>activity_days</th>\n",
       "      <th>driving_days</th>\n",
       "      <th>device</th>\n",
       "      <th>device_type</th>\n",
       "    </tr>\n",
       "  </thead>\n",
       "  <tbody>\n",
       "    <tr>\n",
       "      <th>0</th>\n",
       "      <td>0</td>\n",
       "      <td>retained</td>\n",
       "      <td>283</td>\n",
       "      <td>226</td>\n",
       "      <td>296.748273</td>\n",
       "      <td>2276</td>\n",
       "      <td>208</td>\n",
       "      <td>0</td>\n",
       "      <td>2628.845068</td>\n",
       "      <td>1985.775061</td>\n",
       "      <td>28</td>\n",
       "      <td>19</td>\n",
       "      <td>Android</td>\n",
       "      <td>2</td>\n",
       "    </tr>\n",
       "    <tr>\n",
       "      <th>1</th>\n",
       "      <td>1</td>\n",
       "      <td>retained</td>\n",
       "      <td>133</td>\n",
       "      <td>107</td>\n",
       "      <td>326.896596</td>\n",
       "      <td>1225</td>\n",
       "      <td>19</td>\n",
       "      <td>64</td>\n",
       "      <td>13715.920550</td>\n",
       "      <td>3160.472914</td>\n",
       "      <td>13</td>\n",
       "      <td>11</td>\n",
       "      <td>iPhone</td>\n",
       "      <td>1</td>\n",
       "    </tr>\n",
       "    <tr>\n",
       "      <th>2</th>\n",
       "      <td>2</td>\n",
       "      <td>retained</td>\n",
       "      <td>114</td>\n",
       "      <td>95</td>\n",
       "      <td>135.522926</td>\n",
       "      <td>2651</td>\n",
       "      <td>0</td>\n",
       "      <td>0</td>\n",
       "      <td>3059.148818</td>\n",
       "      <td>1610.735904</td>\n",
       "      <td>14</td>\n",
       "      <td>8</td>\n",
       "      <td>Android</td>\n",
       "      <td>2</td>\n",
       "    </tr>\n",
       "    <tr>\n",
       "      <th>3</th>\n",
       "      <td>3</td>\n",
       "      <td>retained</td>\n",
       "      <td>49</td>\n",
       "      <td>40</td>\n",
       "      <td>67.589221</td>\n",
       "      <td>15</td>\n",
       "      <td>322</td>\n",
       "      <td>7</td>\n",
       "      <td>913.591123</td>\n",
       "      <td>587.196542</td>\n",
       "      <td>7</td>\n",
       "      <td>3</td>\n",
       "      <td>iPhone</td>\n",
       "      <td>1</td>\n",
       "    </tr>\n",
       "    <tr>\n",
       "      <th>4</th>\n",
       "      <td>4</td>\n",
       "      <td>retained</td>\n",
       "      <td>84</td>\n",
       "      <td>68</td>\n",
       "      <td>168.247020</td>\n",
       "      <td>1562</td>\n",
       "      <td>166</td>\n",
       "      <td>5</td>\n",
       "      <td>3950.202008</td>\n",
       "      <td>1219.555924</td>\n",
       "      <td>27</td>\n",
       "      <td>18</td>\n",
       "      <td>Android</td>\n",
       "      <td>2</td>\n",
       "    </tr>\n",
       "  </tbody>\n",
       "</table>\n",
       "</div>"
      ],
      "text/plain": [
       "   ID     label  sessions  drives  total_sessions  n_days_after_onboarding  \\\n",
       "0   0  retained       283     226      296.748273                     2276   \n",
       "1   1  retained       133     107      326.896596                     1225   \n",
       "2   2  retained       114      95      135.522926                     2651   \n",
       "3   3  retained        49      40       67.589221                       15   \n",
       "4   4  retained        84      68      168.247020                     1562   \n",
       "\n",
       "   total_navigations_fav1  total_navigations_fav2  driven_km_drives  \\\n",
       "0                     208                       0       2628.845068   \n",
       "1                      19                      64      13715.920550   \n",
       "2                       0                       0       3059.148818   \n",
       "3                     322                       7        913.591123   \n",
       "4                     166                       5       3950.202008   \n",
       "\n",
       "   duration_minutes_drives  activity_days  driving_days   device  device_type  \n",
       "0              1985.775061             28            19  Android            2  \n",
       "1              3160.472914             13            11   iPhone            1  \n",
       "2              1610.735904             14             8  Android            2  \n",
       "3               587.196542              7             3   iPhone            1  \n",
       "4              1219.555924             27            18  Android            2  "
      ]
     },
     "execution_count": 40,
     "metadata": {},
     "output_type": "execute_result"
    }
   ],
   "source": [
    "# 1. Create `map_dictionary`\n",
    "map_dictionary = {'iPhone':1, 'Android':2}\n",
    "\n",
    "# 2. Create new `device_type` column\n",
    "df['device_type']=df['device']\n",
    "\n",
    "# 3. Map the new column to the dictionary\n",
    "df['device_type'] = df['device_type'].map(map_dictionary)\n",
    "\n",
    "# 4. Verify data\n",
    "df.head(5)"
   ]
  },
  {
   "cell_type": "markdown",
   "metadata": {
    "id": "-fFiNg4hdGBK"
   },
   "source": [
    "Since we are interested in the relationship between device type and the number of drives. One approach is to look at the average number of drives for each device type. Calculate these averages."
   ]
  },
  {
   "cell_type": "code",
   "execution_count": 41,
   "metadata": {
    "id": "2LGEWrdVXgI2"
   },
   "outputs": [
    {
     "data": {
      "text/plain": [
       "1    9672\n",
       "2    5327\n",
       "Name: device_type, dtype: int64"
      ]
     },
     "execution_count": 41,
     "metadata": {},
     "output_type": "execute_result"
    }
   ],
   "source": [
    "#calculate users on each device type\n",
    "count_device = df['device_type'].value_counts()\n",
    "count_device"
   ]
  },
  {
   "cell_type": "code",
   "execution_count": 42,
   "metadata": {},
   "outputs": [
    {
     "data": {
      "text/plain": [
       "device_type\n",
       "1    67.859078\n",
       "2    66.231838\n",
       "Name: drives, dtype: float64"
      ]
     },
     "execution_count": 42,
     "metadata": {},
     "output_type": "execute_result"
    }
   ],
   "source": [
    "#calculate the average number of drives for each device type\n",
    "mean_device = df[['device_type','drives']].groupby(by = df['device_type']).mean()['drives']\n",
    "mean_device"
   ]
  },
  {
   "cell_type": "markdown",
   "metadata": {
    "id": "Z_u-zWvGdfII"
   },
   "source": [
    "Based on the averages shown, it appears that drivers who use an iPhone device to interact with the application have a higher number of drives on average. However, this difference might arise from random sampling, rather than being a true difference in the number of drives. To assess whether the difference is statistically significant, we need to conduct a hypothesis test."
   ]
  },
  {
   "cell_type": "markdown",
   "metadata": {
    "id": "QpFRQDaNzX6p"
   },
   "source": [
    "\n",
    "### **Part 3. Hypothesis testing**\n",
    "\n",
    "Our goal is to conduct a **two-sample t-test**. \n",
    "\n",
    "**Steps:**\n",
    "1.   State the null hypothesis and the alternative hypothesis\n",
    "2.   Choose a signficance level\n",
    "3.   Find the p-value\n",
    "4.   Reject or fail to reject the null hypothesis\n",
    "\n",
    "**Note:** This is a t-test for two **independent** samples. This is the appropriate test since the two groups are independent (The case that one user having one iphone and one Andriod phone is dealed before this test)."
   ]
  },
  {
   "cell_type": "markdown",
   "metadata": {
    "id": "phXxr74vVPrs"
   },
   "source": [
    "**1. State the null hypothesis and the alternative hypothesis**\n",
    "\n",
    "$H_0$: There is no difference in the mean amount of drives between iPhone users and Android users.\n",
    "\n",
    "$H_A$: There is a difference in the mean amount of drives between iPhone users and Android users.\n"
   ]
  },
  {
   "cell_type": "markdown",
   "metadata": {
    "id": "IVHpnfvNeTUA"
   },
   "source": [
    "**2. Choose a signficance level**\n",
    "\n",
    "Choose 5% as the significance level (company commonly used threshold) and proceed with a two-sample t-test.\n"
   ]
  },
  {
   "cell_type": "markdown",
   "metadata": {},
   "source": [
    "**3.  Find the p-value**\n",
    "Using ttest_ind() from stats\n"
   ]
  },
  {
   "cell_type": "code",
   "execution_count": 43,
   "metadata": {
    "id": "rdlsXg7Dhbrd"
   },
   "outputs": [
    {
     "data": {
      "text/plain": [
       "(1.4635232068852353, 0.1433519726802059)"
      ]
     },
     "execution_count": 43,
     "metadata": {},
     "output_type": "execute_result"
    }
   ],
   "source": [
    "# 1. sample iPhone users.\n",
    "df_iphone = df[df['device_type']==1]\n",
    "\n",
    "# 2. Isolate Android users.\n",
    "df_andriod = df[df['device_type']==2]\n",
    "\n",
    "# 3. Perform the t-test based on the 'drives' column\n",
    "tstats,pvalue = stats.ttest_ind(a=df_iphone['drives'], b=df_andriod['drives'], equal_var = False)\n",
    "tstats,pvalue"
   ]
  },
  {
   "cell_type": "markdown",
   "metadata": {
    "id": "64Wq_VSaVsNm"
   },
   "source": [
    "**4.Reject or fail to reject the null hypothesis**\n",
    "\n",
    "p-value is 14.33% > 5% which means we fail to reject the Null Hypothesis. In other words, there is a difference in the mean amount of drives between iPhone users and Android users."
   ]
  },
  {
   "cell_type": "markdown",
   "metadata": {
    "id": "-CgNingVY4Bw"
   },
   "source": [
    "**Conclusion:**\n",
    "\n",
    "Since we did not find any statistically significant difference in the mean amount of drives between iPhone users and Android users, we can conclude that the average rides variable is no obvious relationship between mean amount of rides and device type.\n",
    "\n",
    "(If this is a A/B testing, we can conclude that the new feature tested on those two groups does not lead to any statistically significant difference in the mean amount of drives between iPhone users and Android users.)"
   ]
  }
 ],
 "metadata": {
  "colab": {
   "provenance": [
    {
     "file_id": "1VMShPM3amGvcOZx0J5yHz1kb04rzCFvN",
     "timestamp": 1671052168408
    },
    {
     "file_id": "1su07KaK4RI6MI85tMf2H19qop9LcqqDy",
     "timestamp": 1669648371757
    },
    {
     "file_id": "1f5FzGbEQi1DvhHY8u-K32sklfpgir_pK",
     "timestamp": 1669589913543
    }
   ]
  },
  "kernelspec": {
   "display_name": "Python 3",
   "language": "python",
   "name": "python3"
  },
  "language_info": {
   "codemirror_mode": {
    "name": "ipython",
    "version": 3
   },
   "file_extension": ".py",
   "mimetype": "text/x-python",
   "name": "python",
   "nbconvert_exporter": "python",
   "pygments_lexer": "ipython3",
   "version": "3.7.6"
  }
 },
 "nbformat": 4,
 "nbformat_minor": 1
}
